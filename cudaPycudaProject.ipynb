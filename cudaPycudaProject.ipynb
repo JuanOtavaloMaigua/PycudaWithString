{
  "nbformat": 4,
  "nbformat_minor": 0,
  "metadata": {
    "colab": {
      "name": "cudaPycudaProject.ipynb",
      "provenance": [],
      "collapsed_sections": [],
      "toc_visible": true,
      "mount_file_id": "14yt_tuZn97QEDgk0oZ-AknFWksnMa44f",
      "authorship_tag": "ABX9TyOncrT9oy1fEBX/gP6NvjqN",
      "include_colab_link": true
    },
    "kernelspec": {
      "name": "python3",
      "display_name": "Python 3"
    },
    "accelerator": "GPU"
  },
  "cells": [
    {
      "cell_type": "markdown",
      "metadata": {
        "id": "view-in-github",
        "colab_type": "text"
      },
      "source": [
        "<a href=\"https://colab.research.google.com/github/JuanOtavaloMaigua/PycudaWithString/blob/master/cudaPycudaProject.ipynb\" target=\"_parent\"><img src=\"https://colab.research.google.com/assets/colab-badge.svg\" alt=\"Open In Colab\"/></a>"
      ]
    },
    {
      "cell_type": "markdown",
      "metadata": {
        "id": "bEj-lNnEDB12",
        "colab_type": "text"
      },
      "source": [
        "# Para realizar este proyecto hay que seguir algunos pasos:\n",
        "# primero se debe cambiar el tipo de run en CPU o GPU, esto se lo hace en el Runtime\n",
        "# Segundo cada vez quiere compilar un codigo con Pycuda se debe instalar de nuevo la libreria\n",
        "# Tercero en caso de que se requiera aumentar la capacidad de procesmiento se tiene que compilar la celda 1"
      ]
    },
    {
      "cell_type": "code",
      "metadata": {
        "id": "D1LWNAjFCsXN",
        "colab_type": "code",
        "colab": {}
      },
      "source": [
        "a = []\n",
        "while(1):\n",
        "    a.append('1')"
      ],
      "execution_count": 0,
      "outputs": []
    },
    {
      "cell_type": "code",
      "metadata": {
        "id": "mPQHhkxh8QXa",
        "colab_type": "code",
        "outputId": "ace832e3-57f4-4ed2-a820-5ea34f8904a6",
        "colab": {
          "base_uri": "https://localhost:8080/",
          "height": 479
        }
      },
      "source": [
        "pip install pycuda"
      ],
      "execution_count": 0,
      "outputs": [
        {
          "output_type": "stream",
          "text": [
            "Collecting pycuda\n",
            "\u001b[?25l  Downloading https://files.pythonhosted.org/packages/5e/3f/5658c38579b41866ba21ee1b5020b8225cec86fe717e4b1c5c972de0a33c/pycuda-2019.1.2.tar.gz (1.6MB)\n",
            "\u001b[K     |████████████████████████████████| 1.6MB 12.3MB/s \n",
            "\u001b[?25hCollecting pytools>=2011.2\n",
            "\u001b[?25l  Downloading https://files.pythonhosted.org/packages/66/c7/88a4f8b6f0f78d0115ec3320861a0cc1f6daa3b67e97c3c2842c33f9c089/pytools-2020.1.tar.gz (60kB)\n",
            "\u001b[K     |████████████████████████████████| 61kB 11.2MB/s \n",
            "\u001b[?25hRequirement already satisfied: decorator>=3.2.0 in /usr/local/lib/python3.6/dist-packages (from pycuda) (4.4.2)\n",
            "Collecting appdirs>=1.4.0\n",
            "  Downloading https://files.pythonhosted.org/packages/56/eb/810e700ed1349edde4cbdc1b2a21e28cdf115f9faf263f6bbf8447c1abf3/appdirs-1.4.3-py2.py3-none-any.whl\n",
            "Collecting mako\n",
            "\u001b[?25l  Downloading https://files.pythonhosted.org/packages/50/78/f6ade1e18aebda570eed33b7c534378d9659351cadce2fcbc7b31be5f615/Mako-1.1.2-py2.py3-none-any.whl (75kB)\n",
            "\u001b[K     |████████████████████████████████| 81kB 13.4MB/s \n",
            "\u001b[?25hRequirement already satisfied: six>=1.8.0 in /usr/local/lib/python3.6/dist-packages (from pytools>=2011.2->pycuda) (1.12.0)\n",
            "Requirement already satisfied: numpy>=1.6.0 in /usr/local/lib/python3.6/dist-packages (from pytools>=2011.2->pycuda) (1.18.2)\n",
            "Requirement already satisfied: MarkupSafe>=0.9.2 in /usr/local/lib/python3.6/dist-packages (from mako->pycuda) (1.1.1)\n",
            "Building wheels for collected packages: pycuda, pytools\n",
            "  Building wheel for pycuda (setup.py) ... \u001b[?25l\u001b[?25hdone\n",
            "  Created wheel for pycuda: filename=pycuda-2019.1.2-cp36-cp36m-linux_x86_64.whl size=4537234 sha256=1a4ecd524a6a8273cddb8f1be5a23a3e34c2d53bd8e8ea3fe8a031dad8d2aa48\n",
            "  Stored in directory: /root/.cache/pip/wheels/a6/60/f0/b1c430c73d281ac3e46070480db50f7907364eb6f6d3188396\n",
            "  Building wheel for pytools (setup.py) ... \u001b[?25l\u001b[?25hdone\n",
            "  Created wheel for pytools: filename=pytools-2020.1-py2.py3-none-any.whl size=59602 sha256=fbe872e441437685b53ba2e562f68570c3b9de583d3177166f0d109d7c52dce6\n",
            "  Stored in directory: /root/.cache/pip/wheels/6f/da/1b/946775a88291378182ed92c9800d6d0ebc2a554cb89829cc24\n",
            "Successfully built pycuda pytools\n",
            "Installing collected packages: appdirs, pytools, mako, pycuda\n",
            "Successfully installed appdirs-1.4.3 mako-1.1.2 pycuda-2019.1.2 pytools-2020.1\n"
          ],
          "name": "stdout"
        }
      ]
    },
    {
      "cell_type": "code",
      "metadata": {
        "id": "GtK9i5JY9CeZ",
        "colab_type": "code",
        "colab": {}
      },
      "source": [
        "#Code to read files into colaboratory\n",
        "!pip install -U -q PyDrive\n",
        "from pydrive.auth import GoogleAuth\n",
        "from pydrive.drive import GoogleDrive\n",
        "from google.colab import auth\n",
        "from oauth2client.client import GoogleCredentials"
      ],
      "execution_count": 0,
      "outputs": []
    },
    {
      "cell_type": "code",
      "metadata": {
        "id": "GVxADByY-cp0",
        "colab_type": "code",
        "colab": {}
      },
      "source": [
        "auth.authenticate_user()\n",
        "gauth = GoogleAuth()\n",
        "gauth.credentials = GoogleCredentials.get_application_default()\n",
        "drive = GoogleDrive(gauth)"
      ],
      "execution_count": 0,
      "outputs": []
    },
    {
      "cell_type": "code",
      "metadata": {
        "id": "oBdpAaxU-sEt",
        "colab_type": "code",
        "colab": {}
      },
      "source": [
        "downloaded = drive.CreateFile({'id':'1EAubW4LnkbmuwIdzI7oGIGDtWqwci4om'}) # replace the id with id of file you want to access\n",
        "downloaded.GetContentFile('cuentasData.txt') \n",
        "\n",
        "#Para cargar nuevos datos solo se tiene que copiar el id del documento y cambiar el nombre del archivo\n",
        "#Se puede observar los archivos cargados a este colab en files--> unmuont drive\n",
        "\n",
        "#Este codigo se puede utilizar para abrir varios archivos, se planea que lo mejor para este proyecto es abrir los archivos por la fila de candidatos, ejemplo:\n",
        "#jimmyjairala.txt\n",
        "#lorohomero.txt\n",
        "#cinthiaviteri.txt\n",
        "#Se planteo que la mejor forma es esta para no estar sobre escribiendo de nuevo el codigo que se tiene en el computador.\n",
        "#Si se quiere pasar el codigo del computador hacerlo con tiempo"
      ],
      "execution_count": 0,
      "outputs": []
    },
    {
      "cell_type": "code",
      "metadata": {
        "id": "nsuTeo9-DRMI",
        "colab_type": "code",
        "colab": {}
      },
      "source": [
        "import operator\n",
        "from nltk.corpus import stopwords #lista de palabras mas frecuentes\n",
        "\n",
        "conjuntoUsuarios = []\n",
        "listaCompletaPalabras = []\n",
        "diezUsuarios = []\n",
        "#Open file and read line by line\n",
        "file = open(\"cuentasData.txt\",encoding='utf8')\n",
        "for linea in file:\n",
        "  print(linea)"
      ],
      "execution_count": 0,
      "outputs": []
    },
    {
      "cell_type": "code",
      "metadata": {
        "id": "5H5wCdM9Wlhk",
        "colab_type": "code",
        "outputId": "b224514e-2bc6-4115-cdbe-fc0973865947",
        "colab": {
          "base_uri": "https://localhost:8080/",
          "height": 54
        }
      },
      "source": [
        "s = 'hi'\n",
        "data = [ord(c) for c in s]\n",
        "for d in data:\n",
        "  print(d)"
      ],
      "execution_count": 0,
      "outputs": [
        {
          "output_type": "stream",
          "text": [
            "104\n",
            "105\n"
          ],
          "name": "stdout"
        }
      ]
    }
  ]
}